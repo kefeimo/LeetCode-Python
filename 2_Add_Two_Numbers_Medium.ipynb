{
  "nbformat": 4,
  "nbformat_minor": 0,
  "metadata": {
    "colab": {
      "name": "2_Add Two Numbers_Medium.ipynb",
      "provenance": [],
      "collapsed_sections": [],
      "authorship_tag": "ABX9TyPg1NgrA80UR4IkiRrQHlAt",
      "include_colab_link": true
    },
    "kernelspec": {
      "name": "python3",
      "display_name": "Python 3"
    },
    "language_info": {
      "name": "python"
    }
  },
  "cells": [
    {
      "cell_type": "markdown",
      "metadata": {
        "id": "view-in-github",
        "colab_type": "text"
      },
      "source": [
        "<a href=\"https://colab.research.google.com/github/kefeimo/LeetCode-Python/blob/main/2_Add_Two_Numbers_Medium.ipynb\" target=\"_parent\"><img src=\"https://colab.research.google.com/assets/colab-badge.svg\" alt=\"Open In Colab\"/></a>"
      ]
    },
    {
      "cell_type": "markdown",
      "source": [
        "ref: https://leetcode.com/problems/add-two-numbers/\n"
      ],
      "metadata": {
        "id": "LD1h8-qKWZ6X"
      }
    },
    {
      "cell_type": "markdown",
      "source": [
        "2. Add Two Numbers\n",
        "\n",
        "You are given two non-empty linked lists representing two non-negative integers. The digits are stored in reverse order, and each of their nodes contains a single digit. Add the two numbers and return the sum as a linked list.\n",
        "\n",
        "You may assume the two numbers do not contain any leading zero, except the number 0 itself.\n",
        "\n",
        " \n",
        "\n",
        "Example 1:\n",
        "\n",
        "\n",
        "Input: l1 = [2,4,3], l2 = [5,6,4]\n",
        "Output: [7,0,8]\n",
        "Explanation: 342 + 465 = 807.\n",
        "Example 2:\n",
        "\n",
        "Input: l1 = [0], l2 = [0]\n",
        "Output: [0]\n",
        "Example 3:\n",
        "\n",
        "Input: l1 = [9,9,9,9,9,9,9], l2 = [9,9,9,9]\n",
        "Output: [8,9,9,9,0,0,0,1]\n",
        " \n",
        "\n",
        "Constraints:\n",
        "\n",
        "The number of nodes in each linked list is in the range [1, 100].\n",
        "0 <= Node.val <= 9\n",
        "It is guaranteed that the list represents a number that does not have leading zeros."
      ],
      "metadata": {
        "id": "8WyBJ2pyWhAu"
      }
    },
    {
      "cell_type": "code",
      "source": [
        "from typing import List, Optional"
      ],
      "metadata": {
        "id": "YpeOldjpXQyY"
      },
      "execution_count": 17,
      "outputs": []
    },
    {
      "cell_type": "code",
      "source": [
        "# brute force O(n)\n",
        "def add_two_numbers(l1: List[int], l2: List[int]) -> List[int]:\n",
        "  \n",
        "  if len(l1) >= len(l2):\n",
        "    max_len = len(l1)\n",
        "    min_len = len(l2)\n",
        "    max_l = l1\n",
        "    min_l = l2\n",
        "  else:\n",
        "    max_len = len(l2)\n",
        "    min_len = len(l1)\n",
        "    max_l = l2\n",
        "    min_l = l1\n",
        "\n",
        "  l_sum: List[int] = []\n",
        "  ten_add = 0\n",
        "  for i in range(max_len+1):\n",
        "    if i !=max_len:\n",
        "      if i < min_len:\n",
        "        sum_temp = max_l[i] + min_l[i] + ten_add\n",
        "        \n",
        "      else:\n",
        "        sum_temp = max_l[i] + ten_add\n",
        "        \n",
        "      digit_temp = sum_temp % 10\n",
        "      ten_add_temp = sum_temp // 10\n",
        "      l_sum.append(digit_temp)\n",
        "      ten_add = ten_add_temp \n",
        "    else: # last one\n",
        "      if ten_add:\n",
        "        l_sum.append(ten_add)\n",
        "    \n",
        "    print(\"sum_temp: \", sum_temp, \"ten_add_temp: \", ten_add_temp)\n",
        "  return l_sum\n",
        "\n",
        "l1 = [2,4,3]\n",
        "l2 = [5,6,4]\n",
        "l1 = [9,9,9,9,9,9,9]\n",
        "l2 = [9,9,9,9]\n",
        "add_two_numbers(l1, l2)"
      ],
      "metadata": {
        "colab": {
          "base_uri": "https://localhost:8080/"
        },
        "id": "ZpTOH5xoXvl0",
        "outputId": "4501f772-05bb-4749-aa31-d31e7154e9cb"
      },
      "execution_count": 78,
      "outputs": [
        {
          "output_type": "execute_result",
          "data": {
            "text/plain": [
              "[8, 9, 9, 9, 0, 0, 0, 1]"
            ]
          },
          "metadata": {},
          "execution_count": 78
        }
      ]
    },
    {
      "cell_type": "code",
      "source": [
        "# Definition for singly-linked list.\n",
        "class ListNode:\n",
        "    def __init__(self, val=0, next=None):\n",
        "        self.val = val\n",
        "        self.next: Optional[ListNode] = next\n",
        "    def __repr__(self) -> str:\n",
        "        # return f\"ListNode val: {self.val}, next: {str(self.next.val)}\"\n",
        "      if self.next:\n",
        "        # return f\"ListNode val: {self.val}, next: {str(self.next.val)}\"\n",
        "        return f\"ListNode val: {self.val}, next: {str(self.next)}\"\n",
        "      else:\n",
        "        return f\"ListNode val: {self.val}, next: None\"\n",
        "class Solution:\n",
        "    def addTwoNumbers(self, l1: Optional[ListNode], l2: Optional[ListNode]) -> Optional[ListNode]:\n",
        "      pass\n",
        "\n",
        "l_node = ListNode(1, ListNode(2))\n",
        "l_node"
      ],
      "metadata": {
        "id": "GQ4Ocgo7WmkF",
        "colab": {
          "base_uri": "https://localhost:8080/"
        },
        "outputId": "e97cbeee-e4e2-4eef-9b91-fb2b28e2f5dd"
      },
      "execution_count": 69,
      "outputs": [
        {
          "output_type": "execute_result",
          "data": {
            "text/plain": [
              "ListNode val: 1, next: ListNode val: 2, next: None"
            ]
          },
          "metadata": {},
          "execution_count": 69
        }
      ]
    },
    {
      "cell_type": "code",
      "source": [
        "# playground list -> ListNode\n",
        "list_test = ['Sun', 'Mon', 'Tue', 'Wed']\n",
        "list_Node = [ListNode(val=e) for e in list_test] # init for val\n",
        "for i, e in enumerate(list_test[:-1]): # update for next\n",
        "  list_Node[i].next = list_Node[i+1]\n",
        "  # print(list_Node[i])\n",
        "\n",
        "list_Node"
      ],
      "metadata": {
        "colab": {
          "base_uri": "https://localhost:8080/"
        },
        "id": "VWCzlKksS9y8",
        "outputId": "6bd24ac7-b060-4b3d-97c8-365660e851c2"
      },
      "execution_count": 37,
      "outputs": [
        {
          "output_type": "stream",
          "name": "stdout",
          "text": [
            "val: Sun, next: Mon\n",
            "val: Mon, next: Tue\n",
            "val: Tue, next: Wed\n"
          ]
        },
        {
          "output_type": "execute_result",
          "data": {
            "text/plain": [
              "[val: Sun, next: Mon, val: Mon, next: Tue, val: Tue, next: Wed, val: Wed]"
            ]
          },
          "metadata": {},
          "execution_count": 37
        }
      ]
    },
    {
      "cell_type": "code",
      "source": [
        "def list_to_listnode(l: List) -> ListNode:\n",
        "  list_Node = [ListNode(val=e) for e in l] # init for val\n",
        "  for i, e in enumerate(l[:-1]): # update for next\n",
        "    list_Node[i].next = list_Node[i+1]\n",
        "    print(list_Node[i])\n",
        "\n",
        "  return list_Node[0]\n",
        "\n",
        "list_test = ['Sun', 'Mon', 'Tue', 'Wed']\n",
        "list_to_listnode(list_test)\n"
      ],
      "metadata": {
        "colab": {
          "base_uri": "https://localhost:8080/"
        },
        "id": "vhGNP4JObJ6a",
        "outputId": "ec4794c2-b683-4a90-95a4-d46f070a6f0f"
      },
      "execution_count": 54,
      "outputs": [
        {
          "output_type": "stream",
          "name": "stdout",
          "text": [
            "ListNode val: Sun, next: Mon\n",
            "ListNode val: Mon, next: Tue\n",
            "ListNode val: Tue, next: Wed\n",
            "ListNode val: Sun, next: Mon\n"
          ]
        }
      ]
    },
    {
      "cell_type": "code",
      "source": [
        "# linked_list to list (traverse)\n",
        "def listnode_to_list(l_node_head: ListNode):\n",
        "  node_now = l_node_head\n",
        "  l: List = [node_now.val]\n",
        "  while node_now.next:\n",
        "    l.append(node_now.next.val)\n",
        "    node_now = node_now.next\n",
        "  return l\n",
        "\n",
        "list_test = ['Sun', 'Mon', 'Tue', 'Wed']\n",
        "l_head = list_to_listnode(list_test)\n",
        "listnode_to_list(l_node_head=l_head)"
      ],
      "metadata": {
        "colab": {
          "base_uri": "https://localhost:8080/"
        },
        "id": "spHrOBn8mZpr",
        "outputId": "3290c0e9-7d55-4088-9559-6282380eee50"
      },
      "execution_count": 39,
      "outputs": [
        {
          "output_type": "execute_result",
          "data": {
            "text/plain": [
              "['Sun', 'Mon', 'Tue', 'Wed']"
            ]
          },
          "metadata": {},
          "execution_count": 39
        }
      ]
    },
    {
      "cell_type": "code",
      "source": [
        "# solution 1 wrapper\n",
        "def solution_wrapper_1(l1: Optional[ListNode], l2: Optional[ListNode]):\n",
        "  l1_list: List = listnode_to_list(l1)\n",
        "  l2_list: List = listnode_to_list(l2)\n",
        "  l_sum_list = add_two_numbers(l1_list, l2_list)\n",
        "      \n",
        "  return list_to_listnode(l_sum_list)"
      ],
      "metadata": {
        "id": "LyOgD2Wnonpi"
      },
      "execution_count": 49,
      "outputs": []
    },
    {
      "cell_type": "code",
      "source": [
        "class Solution:\n",
        "    def addTwoNumbers(self, l1: Optional[ListNode], l2: Optional[ListNode]) -> Optional[ListNode]:\n",
        "        return solution_wrapper_1(l1, l2)"
      ],
      "metadata": {
        "id": "NPNxakVlnidM"
      },
      "execution_count": 50,
      "outputs": []
    },
    {
      "cell_type": "code",
      "source": [
        "# brute force (adapter pattern) O(n)\n",
        "def add_two_numbers(l1: List[int], l2: List[int]) -> List[int]:\n",
        "  \n",
        "    if len(l1) >= len(l2):\n",
        "        max_len = len(l1)\n",
        "        min_len = len(l2)\n",
        "        max_l = l1\n",
        "        min_l = l2\n",
        "    else:\n",
        "        max_len = len(l2)\n",
        "        min_len = len(l1)\n",
        "        max_l = l2\n",
        "        min_l = l1\n",
        "\n",
        "    l_sum: List[int] = []\n",
        "    ten_add = 0\n",
        "    for i in range(max_len+1):\n",
        "        if i !=max_len:\n",
        "            if i < min_len:\n",
        "                sum_temp = max_l[i] + min_l[i] + ten_add\n",
        "        \n",
        "            else:\n",
        "                sum_temp = max_l[i] + ten_add\n",
        "            \n",
        "            digit_temp = sum_temp % 10\n",
        "            ten_add_temp = sum_temp // 10\n",
        "            l_sum.append(digit_temp)\n",
        "            ten_add = ten_add_temp \n",
        "        else: # last one\n",
        "            if ten_add:\n",
        "                l_sum.append(ten_add)\n",
        "    \n",
        "        # print(\"sum_temp: \", sum_temp, \"ten_add_temp: \", ten_add_temp)\n",
        "    return l_sum\n",
        "\n",
        "# # Definition for singly-linked list.\n",
        "# class ListNode:\n",
        "#     def __init__(self, val=0, next=None):\n",
        "#         self.val = val\n",
        "#         self.next = next\n",
        "        \n",
        "def list_to_listnode(l: List) -> ListNode:\n",
        "    list_Node = [ListNode(val=e) for e in l] # init for val\n",
        "    for i, e in enumerate(l[:-1]): # update for next\n",
        "        list_Node[i].next = list_Node[i+1]\n",
        "        # print(list_Node[i])\n",
        "\n",
        "    return list_Node[0]\n",
        "\n",
        "def listnode_to_list(l_node_head: ListNode):\n",
        "    node_now = l_node_head\n",
        "    l: List = [node_now.val]\n",
        "    while node_now.next:\n",
        "        l.append(node_now.next.val)\n",
        "        node_now = node_now.next\n",
        "    return l\n",
        "        \n",
        "\n",
        "# solution 1 wrapper\n",
        "def solution_wrapper_1(l1: Optional[ListNode], l2: Optional[ListNode]):\n",
        "    l1_list: List = listnode_to_list(l1)\n",
        "    l2_list: List = listnode_to_list(l2)\n",
        "    l_sum_list = add_two_numbers(l1_list, l2_list)\n",
        "\n",
        "    return list_to_listnode(l_sum_list)\n",
        "\n",
        "class Solution:\n",
        "    def addTwoNumbers(self, l1: Optional[ListNode], l2: Optional[ListNode]) -> Optional[ListNode]:\n",
        "        # print(\"l1: \", l1)\n",
        "        # print(\"l_sum\", solution_wrapper_1(l1, l2))\n",
        "        return solution_wrapper_1(l1, l2)"
      ],
      "metadata": {
        "id": "PDI18d5zvWzM"
      },
      "execution_count": 79,
      "outputs": []
    },
    {
      "cell_type": "code",
      "source": [
        "# test\n",
        "solver = Solution()\n",
        "\n",
        "print(\"====Test 1====\")\n",
        "l1_list = [2, 4, 3]\n",
        "l2_list = [5, 6, 3]\n",
        "target = [7,0,7]\n",
        "l1 = list_to_listnode(l1_list)\n",
        "l2 = list_to_listnode(l2_list)\n",
        "# print(\"l1\", l1)\n",
        "# print(\"l2\", l2)\n",
        "l1_list: List = listnode_to_list(l1)\n",
        "l2_list: List = listnode_to_list(l2)\n",
        "# print(\"l1_list\", l1_list, \"l2_list\", l2_list)\n",
        "l_sum_list = add_two_numbers(l1_list, l2_list)\n",
        "l_sum_list\n",
        "solution = solver.addTwoNumbers(l1, l2)\n",
        "listnode_to_list(solution)\n",
        "assert(listnode_to_list(solution)==target)\n",
        "print(\"Test 1 passed\")\n",
        "\n",
        "\n",
        "print(\"====Test 2====\")\n",
        "l1_list = [9,9,9,9,9,9,9]\n",
        "l2_list = [9,9,9,9]\n",
        "target = [8, 9, 9, 9, 0, 0, 0, 1]\n",
        "l1 = list_to_listnode(l1_list)\n",
        "l2 = list_to_listnode(l2_list)\n",
        "# print(\"l1\", l1)\n",
        "# print(\"l2\", l2)\n",
        "l1_list: List = listnode_to_list(l1)\n",
        "l2_list: List = listnode_to_list(l2)\n",
        "# print(\"l1_list\", l1_list, \"l2_list\", l2_list)\n",
        "l_sum_list = add_two_numbers(l1_list, l2_list)\n",
        "l_sum_list\n",
        "solution = solver.addTwoNumbers(l1, l2)\n",
        "listnode_to_list(solution)\n",
        "assert(listnode_to_list(solution)==target)\n",
        "print(\"Test 2 passed\")"
      ],
      "metadata": {
        "colab": {
          "base_uri": "https://localhost:8080/"
        },
        "id": "vvFfaIKbXI9y",
        "outputId": "6fe8f9e2-3205-41e4-aca2-69974c61f7aa"
      },
      "execution_count": 84,
      "outputs": [
        {
          "output_type": "stream",
          "name": "stdout",
          "text": [
            "====Test 1====\n",
            "l1:  ListNode val: 2, next: ListNode val: 4, next: ListNode val: 3, next: None\n",
            "l_sum ListNode val: 7, next: ListNode val: 0, next: ListNode val: 7, next: None\n",
            "Test 1 passed\n",
            "====Test 2====\n",
            "l1:  ListNode val: 9, next: ListNode val: 9, next: ListNode val: 9, next: ListNode val: 9, next: ListNode val: 9, next: ListNode val: 9, next: ListNode val: 9, next: None\n",
            "l_sum ListNode val: 8, next: ListNode val: 9, next: ListNode val: 9, next: ListNode val: 9, next: ListNode val: 0, next: ListNode val: 0, next: ListNode val: 0, next: ListNode val: 1, next: None\n",
            "Test 2 passed\n"
          ]
        }
      ]
    },
    {
      "cell_type": "code",
      "source": [
        ""
      ],
      "metadata": {
        "id": "eWjM8cDdmoRA"
      },
      "execution_count": null,
      "outputs": []
    },
    {
      "cell_type": "markdown",
      "source": [
        "![leetcode_2_add_two_numbers](https://user-images.githubusercontent.com/28743873/152444164-a94c8ae9-8dc6-414b-8299-bd54e0fcef97.png)\n"
      ],
      "metadata": {
        "id": "A2Jgmz2r1kNF"
      }
    },
    {
      "cell_type": "code",
      "source": [
        ""
      ],
      "metadata": {
        "id": "rtlm_AQG1wtu"
      },
      "execution_count": null,
      "outputs": []
    }
  ]
}