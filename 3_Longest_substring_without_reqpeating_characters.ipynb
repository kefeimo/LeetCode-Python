{
  "nbformat": 4,
  "nbformat_minor": 0,
  "metadata": {
    "colab": {
      "name": "3_Longest_substring_without_reqpeating_characters.ipynb",
      "provenance": [],
      "collapsed_sections": [],
      "authorship_tag": "ABX9TyOk3uwwGOtHPyEmKC3wWpy5",
      "include_colab_link": true
    },
    "kernelspec": {
      "name": "python3",
      "display_name": "Python 3"
    },
    "language_info": {
      "name": "python"
    }
  },
  "cells": [
    {
      "cell_type": "markdown",
      "metadata": {
        "id": "view-in-github",
        "colab_type": "text"
      },
      "source": [
        "<a href=\"https://colab.research.google.com/github/kefeimo/LeetCode-Python/blob/main/3_Longest_substring_without_reqpeating_characters.ipynb\" target=\"_parent\"><img src=\"https://colab.research.google.com/assets/colab-badge.svg\" alt=\"Open In Colab\"/></a>"
      ]
    },
    {
      "cell_type": "markdown",
      "source": [
        "ref: https://leetcode.com/problems/longest-substring-without-repeating-characters/\n"
      ],
      "metadata": {
        "id": "LD1h8-qKWZ6X"
      }
    },
    {
      "cell_type": "markdown",
      "source": [
        "3. Longest Substring Without Repeating Characters\n",
        "Medium\n",
        "\n",
        "Given a string s, find the length of the longest substring without repeating characters.\n",
        "\n",
        " \n",
        "\n",
        "Example 1:\n",
        "\n",
        "Input: s = \"abcabcbb\"\n",
        "Output: 3\n",
        "Explanation: The answer is \"abc\", with the length of 3.\n",
        "Example 2:\n",
        "\n",
        "Input: s = \"bbbbb\"\n",
        "Output: 1\n",
        "Explanation: The answer is \"b\", with the length of 1.\n",
        "Example 3:\n",
        "\n",
        "Input: s = \"pwwkew\"\n",
        "Output: 3\n",
        "Explanation: The answer is \"wke\", with the length of 3.\n",
        "Notice that the answer must be a substring, \"pwke\" is a subsequence and not a substring.\n",
        " \n",
        "\n",
        "Constraints:\n",
        "\n",
        "0 <= s.length <= 5 * 104\n",
        "s consists of English letters, digits, symbols and spaces."
      ],
      "metadata": {
        "id": "8WyBJ2pyWhAu"
      }
    },
    {
      "cell_type": "code",
      "source": [
        "from typing import List, Optional"
      ],
      "metadata": {
        "id": "YpeOldjpXQyY"
      },
      "execution_count": 3,
      "outputs": []
    },
    {
      "cell_type": "code",
      "source": [
        "# brute force O(n^2)\n",
        "def longest_substr_wo_rep(string: str) -> str:\n",
        "    sub_str_max: str = \"\"\n",
        "    max_len: int = 0\n",
        "    for i in range (len(string)):\n",
        "        sub_str_temp = \"\"\n",
        "        for s in string[i:]:\n",
        "            if s not in sub_str_temp:\n",
        "                sub_str_temp = sub_str_temp + s\n",
        "            else:\n",
        "                break\n",
        "        # print(\"i: \", i, \"sub_str_temp: \", sub_str_temp)\n",
        "        if len(sub_str_temp) > max_len:\n",
        "            max_len = len(sub_str_temp)\n",
        "            sub_str_max = sub_str_temp\n",
        "\n",
        "  \n",
        "    return max_len\n",
        "\n",
        "string = \"pwwkew\"\n",
        "longest_substr_wo_rep(string)"
      ],
      "metadata": {
        "colab": {
          "base_uri": "https://localhost:8080/"
        },
        "id": "ZpTOH5xoXvl0",
        "outputId": "7cb6366c-47aa-44fe-9b9c-89e813695ee4"
      },
      "execution_count": 4,
      "outputs": [
        {
          "output_type": "execute_result",
          "data": {
            "text/plain": [
              "3"
            ]
          },
          "metadata": {},
          "execution_count": 4
        }
      ]
    },
    {
      "cell_type": "code",
      "source": [
        "# divide-and-conquer O(nlogn)--not working\n",
        "def max_sub(string: str) -> str:\n",
        "    # print(\"string: \", string)\n",
        "    str_longest: str # return\n",
        "    len_str: int = len(string)\n",
        "    if len_str == 1 or len_str == 0:\n",
        "        str_longest = string\n",
        "        # return str_longest\n",
        "    elif len_str ==2: # redundant but explicit for clarity\n",
        "        if string[0] == string[1]:\n",
        "            str_longest = string[0]\n",
        "        else:\n",
        "            str_longest = string\n",
        "        # return str_longest\n",
        "    else: # len_str > 2\n",
        "        str_longest_l = max_sub(string[:len_str//2]) # left\n",
        "        str_longest_r = max_sub(string[len_str//2:]) # right\n",
        "        str_temp = \"\"\n",
        "        for s in string[:len_str//2][::-1] + string[len_str//2:]: # O(n)\n",
        "            if s not in str_temp:\n",
        "                str_temp = str_temp + s\n",
        "            else:\n",
        "                break\n",
        "        str_temp2 = \"\"\n",
        "        for s in string[len_str//2:]+ string[:len_str//2][::-1]: # O(n)\n",
        "            if s not in str_temp2:\n",
        "                str_temp2 = str_temp2 + s\n",
        "            else:\n",
        "                break\n",
        "        if len(str_temp) > len(str_temp2):\n",
        "            str_longest_crs = str_temp\n",
        "        else:\n",
        "            str_longest_crs = str_temp2\n",
        "        if len(str_longest_crs) > len(str_longest_l) and \\\n",
        "            len(str_longest_crs) > len(str_longest_r):\n",
        "            str_longest = str_longest_crs\n",
        "        else:\n",
        "            if len(str_longest_l) > len(str_longest_r):\n",
        "                str_longest = str_longest_l\n",
        "            else:\n",
        "                str_longest = str_longest_r\n",
        "    # print(\"str_longest: \", str_longest)\n",
        "    return str_longest\n",
        "        \n",
        "\n",
        "string = \"pwwkew\"\n",
        "string = \"abcabcbb\"\n",
        "max_sub(string)"
      ],
      "metadata": {
        "id": "GQ4Ocgo7WmkF",
        "colab": {
          "base_uri": "https://localhost:8080/",
          "height": 36
        },
        "outputId": "2637500e-789c-4d81-b567-6d2b43860a27"
      },
      "execution_count": 5,
      "outputs": [
        {
          "output_type": "execute_result",
          "data": {
            "application/vnd.google.colaboratory.intrinsic+json": {
              "type": "string"
            },
            "text/plain": [
              "'cab'"
            ]
          },
          "metadata": {},
          "execution_count": 5
        }
      ]
    },
    {
      "cell_type": "code",
      "source": [
        "class Solution:\n",
        "    def lengthOfLongestSubstring(self, s: str) -> int:\n",
        "        return longest_substr_wo_rep(s)\n",
        "        # return len(max_sub(s))\n",
        "        "
      ],
      "metadata": {
        "id": "NPNxakVlnidM"
      },
      "execution_count": 6,
      "outputs": []
    },
    {
      "cell_type": "code",
      "source": [
        "# test\n",
        "solver = Solution()\n",
        "\n",
        "print(\"====Test 1====\")\n",
        "s = 'abcabcbb'\n",
        "target = 3\n",
        "solution = solver.lengthOfLongestSubstring(s)\n",
        "assert(solution==target)\n",
        "print(\"Test 1 passed\")\n",
        "\n",
        "\n",
        "print(\"====Test 2====\")\n",
        "s = 'bbbbb'\n",
        "target = 1\n",
        "solution = solver.lengthOfLongestSubstring(s)\n",
        "assert(solution==target)\n",
        "print(\"Test 2 passed\")\n",
        "\n",
        "print(\"====Test 3====\")\n",
        "s = 'pwwkew'\n",
        "target = 3\n",
        "solution = solver.lengthOfLongestSubstring(s)\n",
        "assert(solution==target)\n",
        "print(\"Test 3 passed\")\n",
        "\n",
        "print(\"====Test 4====\")\n",
        "s = ''\n",
        "target = 0\n",
        "solution = solver.lengthOfLongestSubstring(s)\n",
        "assert(solution==target)\n",
        "print(\"Test 4 passed\")\n",
        "\n",
        "print(\"====Test 5====\")\n",
        "s = 'dvdf'\n",
        "target = 3\n",
        "solution = solver.lengthOfLongestSubstring(s)\n",
        "assert(solution==target)\n",
        "print(\"Test 5 passed\")"
      ],
      "metadata": {
        "colab": {
          "base_uri": "https://localhost:8080/"
        },
        "id": "vvFfaIKbXI9y",
        "outputId": "d502a1a5-23fe-411c-d11c-cb20f5701671"
      },
      "execution_count": 7,
      "outputs": [
        {
          "output_type": "stream",
          "name": "stdout",
          "text": [
            "====Test 1====\n",
            "Test 1 passed\n",
            "====Test 2====\n",
            "Test 2 passed\n",
            "====Test 3====\n",
            "Test 3 passed\n",
            "====Test 4====\n",
            "Test 4 passed\n",
            "====Test 5====\n",
            "Test 5 passed\n"
          ]
        }
      ]
    },
    {
      "cell_type": "markdown",
      "source": [
        "![leetcode_3_longest_substr_a](https://user-images.githubusercontent.com/28743873/152730401-76a08ad8-d5ba-4468-b593-c6f1fabdb669.png)\n"
      ],
      "metadata": {
        "id": "A2Jgmz2r1kNF"
      }
    },
    {
      "cell_type": "code",
      "source": [
        ""
      ],
      "metadata": {
        "id": "rtlm_AQG1wtu"
      },
      "execution_count": 7,
      "outputs": []
    },
    {
      "cell_type": "markdown",
      "source": [
        "What's next?\n",
        "\n",
        "Very bad performance. Use slicing window to improve performance next time."
      ],
      "metadata": {
        "id": "Fnp-iwegr_iM"
      }
    }
  ]
}