{
  "nbformat": 4,
  "nbformat_minor": 0,
  "metadata": {
    "colab": {
      "name": "4. Median of Two Sorted Arrays Hard.ipynb",
      "provenance": [],
      "collapsed_sections": [],
      "authorship_tag": "ABX9TyPLRxFsq9OnGIzCrSib94Cr",
      "include_colab_link": true
    },
    "kernelspec": {
      "name": "python3",
      "display_name": "Python 3"
    },
    "language_info": {
      "name": "python"
    }
  },
  "cells": [
    {
      "cell_type": "markdown",
      "metadata": {
        "id": "view-in-github",
        "colab_type": "text"
      },
      "source": [
        "<a href=\"https://colab.research.google.com/github/kefeimo/LeetCode-Python/blob/main/4_Median_of_Two_Sorted_Arrays_Hard.ipynb\" target=\"_parent\"><img src=\"https://colab.research.google.com/assets/colab-badge.svg\" alt=\"Open In Colab\"/></a>"
      ]
    },
    {
      "cell_type": "markdown",
      "source": [
        "ref: https://leetcode.com/problems/median-of-two-sorted-arrays/"
      ],
      "metadata": {
        "id": "LD1h8-qKWZ6X"
      }
    },
    {
      "cell_type": "markdown",
      "source": [
        "Given two sorted arrays nums1 and nums2 of size m and n respectively, return the median of the two sorted arrays.\n",
        "\n",
        "The overall run time complexity should be O(log (m+n)).\n",
        "\n",
        " \n",
        "\n",
        "Example 1:\n",
        "\n",
        "Input: nums1 = [1,3], nums2 = [2]\n",
        "Output: 2.00000\n",
        "Explanation: merged array = [1,2,3] and median is 2.\n",
        "Example 2:\n",
        "\n",
        "Input: nums1 = [1,2], nums2 = [3,4]\n",
        "Output: 2.50000\n",
        "Explanation: merged array = [1,2,3,4] and median is (2 + 3) / 2 = 2.5.\n",
        " \n",
        "\n",
        "Constraints:\n",
        "\n",
        "nums1.length == m\n",
        "nums2.length == n\n",
        "0 <= m <= 1000\n",
        "0 <= n <= 1000\n",
        "1 <= m + n <= 2000\n",
        "-106 <= nums1[i], nums2[i] <= 106"
      ],
      "metadata": {
        "id": "8WyBJ2pyWhAu"
      }
    },
    {
      "cell_type": "code",
      "source": [
        "from typing import List, Optional"
      ],
      "metadata": {
        "id": "YpeOldjpXQyY"
      },
      "execution_count": 1,
      "outputs": []
    },
    {
      "cell_type": "code",
      "source": [
        "# brute force using API O(?) (probabely O(m+n))\n",
        "import numpy as np\n",
        "def find_med_from_sortedlist(l1: List[int], l2: List[int]) -> float:\n",
        "    l_mix = l1 + l2\n",
        "    med = np.median(l_mix)\n",
        "    return med\n",
        "\n",
        "l1 = [1, 3]\n",
        "l2 = [2]\n",
        "find_med_from_sortedlist(l1, l2)"
      ],
      "metadata": {
        "colab": {
          "base_uri": "https://localhost:8080/"
        },
        "id": "ZpTOH5xoXvl0",
        "outputId": "56229325-1309-4f3b-e1b4-0c898b6902c3"
      },
      "execution_count": 3,
      "outputs": [
        {
          "output_type": "execute_result",
          "data": {
            "text/plain": [
              "2"
            ]
          },
          "metadata": {},
          "execution_count": 3
        }
      ]
    },
    {
      "cell_type": "code",
      "source": [
        "class Solution:\n",
        "    def findMedianSortedArrays(self, nums1: List[int], nums2: List[int]) -> float:\n",
        "        return find_med_from_sortedlist(nums1, nums2)"
      ],
      "metadata": {
        "id": "9Ue8JqEKSBen"
      },
      "execution_count": 4,
      "outputs": []
    },
    {
      "cell_type": "code",
      "source": [
        "# test\n",
        "solver = Solution()\n",
        "\n",
        "print(\"====Test 1====\")\n",
        "s = 'abcabcbb'\n",
        "l1 = [1, 3]\n",
        "l2 = [2]\n",
        "target = 2.0\n",
        "solution = solver.findMedianSortedArrays(l1, l2)\n",
        "assert(solution==target)\n",
        "print(\"Test 1 passed\")\n",
        "\n",
        "\n",
        "print(\"====Test 2====\")\n",
        "s = 'bbbbb'\n",
        "l1 = [1,2]\n",
        "l2 = [3, 4]\n",
        "target = 2.5\n",
        "solution = solver.findMedianSortedArrays(l1, l2)\n",
        "print(\"Test 2 passed\")\n"
      ],
      "metadata": {
        "colab": {
          "base_uri": "https://localhost:8080/"
        },
        "id": "vvFfaIKbXI9y",
        "outputId": "1e64c2ef-3c70-4d4a-d0a9-aecbb0cbbdab"
      },
      "execution_count": 5,
      "outputs": [
        {
          "output_type": "stream",
          "name": "stdout",
          "text": [
            "====Test 1====\n",
            "Test 1 passed\n",
            "====Test 2====\n",
            "Test 2 passed\n"
          ]
        }
      ]
    },
    {
      "cell_type": "markdown",
      "source": [
        "![screenshot_20220212_153413](https://user-images.githubusercontent.com/28743873/153732187-0c8141c1-03b1-4c24-9cf8-984c448e54ba.png)"
      ],
      "metadata": {
        "id": "A2Jgmz2r1kNF"
      }
    },
    {
      "cell_type": "code",
      "source": [
        ""
      ],
      "metadata": {
        "id": "rtlm_AQG1wtu"
      },
      "execution_count": null,
      "outputs": []
    },
    {
      "cell_type": "markdown",
      "source": [
        "What's next?\n",
        "\n",
        "Very bad performance. Use priority queue (family of max-heap, min-heap) next time."
      ],
      "metadata": {
        "id": "Fnp-iwegr_iM"
      }
    },
    {
      "cell_type": "code",
      "source": [
        ""
      ],
      "metadata": {
        "id": "50ccwO8sSrMt"
      },
      "execution_count": null,
      "outputs": []
    }
  ]
}