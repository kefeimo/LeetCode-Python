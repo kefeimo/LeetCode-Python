{
  "nbformat": 4,
  "nbformat_minor": 0,
  "metadata": {
    "colab": {
      "name": "leetcood_py_1_two_sum.ipynb",
      "provenance": []
    },
    "kernelspec": {
      "name": "python3",
      "display_name": "Python 3"
    },
    "language_info": {
      "name": "python"
    }
  },
  "cells": [
    {
      "cell_type": "markdown",
      "source": [
        "ref: https://leetcode.com/problems/two-sum/\n"
      ],
      "metadata": {
        "id": "LD1h8-qKWZ6X"
      }
    },
    {
      "cell_type": "markdown",
      "source": [
        "1. Two Sum\n",
        "\n",
        "Given an array of integers nums and an integer target, return indices of the two numbers such that they add up to target.\n",
        "\n",
        "You may assume that each input would have exactly one solution, and you may not use the same element twice.\n",
        "\n",
        "You can return the answer in any order.\n",
        "\n",
        " \n",
        "\n",
        "Example 1:\n",
        "\n",
        "Input: nums = [2,7,11,15], target = 9\n",
        "Output: [0,1]\n",
        "Explanation: Because nums[0] + nums[1] == 9, we return [0, 1].\n",
        "Example 2:\n",
        "\n",
        "Input: nums = [3,2,4], target = 6\n",
        "Output: [1,2]\n",
        "Example 3:\n",
        "\n",
        "Input: nums = [3,3], target = 6\n",
        "Output: [0,1]\n",
        " \n",
        "\n",
        "Constraints:\n",
        "\n",
        "2 <= nums.length <= 104\n",
        "-109 <= nums[i] <= 109\n",
        "-109 <= target <= 109\n",
        "Only one valid answer exists.\n",
        " \n",
        "\n",
        "Follow-up: Can you come up with an algorithm that is less than O(n2) time complexity?"
      ],
      "metadata": {
        "id": "8WyBJ2pyWhAu"
      }
    },
    {
      "cell_type": "code",
      "source": [
        "from typing import List"
      ],
      "metadata": {
        "id": "YpeOldjpXQyY"
      },
      "execution_count": 3,
      "outputs": []
    },
    {
      "cell_type": "code",
      "source": [
        "# brute force O(n^2)\n",
        "def two_sum(nums: List[int], target: int) -> List[int]:\n",
        "  for i in range(len(nums)):\n",
        "    for j in range(i+1, len(nums)):\n",
        "      # print(nums[i]+nums[j])\n",
        "      if nums[i]+nums[j] == target:\n",
        "        return [i, j]\n",
        "  raise ValueError(\"Assumption wrong. No solution exists.\")\n",
        "\n",
        "nums = [2, 7, 11, 15]\n",
        "target = 18\n",
        "two_sum(nums, target)"
      ],
      "metadata": {
        "colab": {
          "base_uri": "https://localhost:8080/"
        },
        "id": "ZpTOH5xoXvl0",
        "outputId": "819a1ee9-4cc7-444d-bbc2-92a91b8ba254"
      },
      "execution_count": 13,
      "outputs": [
        {
          "output_type": "execute_result",
          "data": {
            "text/plain": [
              "[1, 2]"
            ]
          },
          "metadata": {},
          "execution_count": 13
        }
      ]
    },
    {
      "cell_type": "code",
      "source": [
        "# using dict O(n)\n",
        "def two_sum_v2(nums: List[int], target: int) -> List[int]:\n",
        "  nums_complete: dict = {} # Dict[int, List[int]]\n",
        "  for i,n in enumerate(nums):\n",
        "    if nums_complete.get(target-n):\n",
        "      nums_complete[target-n] = nums_complete[target-n] + [i]\n",
        "    else:\n",
        "      nums_complete[target-n] = [i]\n",
        "  # print(nums_complete)\n",
        "  for i, n in enumerate(nums):\n",
        "    if nums_complete.get(n):\n",
        "      _i_list = [_i for _i in nums_complete.get(n) if _i!=i]\n",
        "      if _i_list:\n",
        "        j = _i_list[0]\n",
        "        return [i, j]\n",
        "  raise ValueError(\"Assumption wrong. No solution exists.\")\n",
        "nums = [2, 7, 11, 15]\n",
        "target = 18\n",
        "nums = [3, 2, 4]\n",
        "target = 6\n",
        "two_sum_v2(nums, target)"
      ],
      "metadata": {
        "colab": {
          "base_uri": "https://localhost:8080/"
        },
        "id": "QNfv4wf9ZgHj",
        "outputId": "96a8bf65-6ec9-444a-a671-79d39099b723"
      },
      "execution_count": 26,
      "outputs": [
        {
          "output_type": "stream",
          "name": "stdout",
          "text": [
            "{3: [0], 4: [1], 2: [2]}\n"
          ]
        },
        {
          "output_type": "execute_result",
          "data": {
            "text/plain": [
              "[1, [2]]"
            ]
          },
          "metadata": {},
          "execution_count": 26
        }
      ]
    },
    {
      "cell_type": "code",
      "source": [
        "class Solution:\n",
        "    def twoSum(self, nums: List[int], target: int) -> List[int]:\n",
        "      pass\n",
        "      # return two_sum(nums, target)\n",
        "      return two_sum_v2(nums, target)"
      ],
      "metadata": {
        "id": "GQ4Ocgo7WmkF"
      },
      "execution_count": 27,
      "outputs": []
    },
    {
      "cell_type": "code",
      "source": [
        "# test\n",
        "solver = Solution()\n",
        "\n",
        "print(\"====Test 1====\")\n",
        "nums = [2, 7, 11, 15]\n",
        "target = 9\n",
        "solution = solver.twoSum(nums, target)\n",
        "assert(set(solution)==set([0,1]))\n",
        "print(\"Test 1 passed\")\n",
        "\n",
        "\n",
        "print(\"====Test 2====\")\n",
        "nums = [3,2,4]\n",
        "target = 6\n",
        "solution = solver.twoSum(nums, target)\n",
        "assert(set(solution)==set([1, 2]))\n",
        "print(\"Test 2 passed\")\n",
        "\n",
        "print(\"====Test 3====\")\n",
        "nums = [3, 3]\n",
        "target = 6\n",
        "solution = solver.twoSum(nums, target)\n",
        "assert(set(solution)==set([0, 1]))\n",
        "print(\"Test 3 passed\")"
      ],
      "metadata": {
        "colab": {
          "base_uri": "https://localhost:8080/"
        },
        "id": "vvFfaIKbXI9y",
        "outputId": "64350487-5892-43a4-db62-871a111d9d4a"
      },
      "execution_count": 19,
      "outputs": [
        {
          "output_type": "stream",
          "name": "stdout",
          "text": [
            "====Test 1====\n",
            "Test 1 passed\n",
            "====Test 2====\n",
            "Test 2 passed\n",
            "====Test 3====\n",
            "Test 3 passed\n"
          ]
        }
      ]
    },
    {
      "cell_type": "code",
      "source": [
        ""
      ],
      "metadata": {
        "id": "yYjtCh0oXrKa"
      },
      "execution_count": null,
      "outputs": []
    },
    {
      "cell_type": "markdown",
      "source": [
        "\n",
        "![leet_code_python_1_twoSum](https://user-images.githubusercontent.com/28743873/152067874-579da124-04cf-4e3b-ab91-5fe3067002d7.png)\n",
        "\n",
        "![leet_code_python_1_twoSum_b](https://user-images.githubusercontent.com/28743873/152068233-0314035b-d8ed-4d9a-8c2b-01a56d10da53.png)\n"
      ],
      "metadata": {
        "id": "Ae1ewEdqlsVh"
      }
    },
    {
      "cell_type": "code",
      "source": [
        ""
      ],
      "metadata": {
        "id": "eWjM8cDdmoRA"
      },
      "execution_count": null,
      "outputs": []
    }
  ]
}